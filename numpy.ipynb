{
 "cells": [
  {
   "cell_type": "code",
   "execution_count": 3,
   "metadata": {},
   "outputs": [
    {
     "name": "stdout",
     "output_type": "stream",
     "text": [
      "30\n"
     ]
    }
   ],
   "source": [
    "a=10\n",
    "b=20\n",
    "print(a+b)"
   ]
  },
  {
   "cell_type": "code",
   "execution_count": 4,
   "metadata": {},
   "outputs": [
    {
     "data": {
      "text/plain": [
       "30"
      ]
     },
     "execution_count": 4,
     "metadata": {},
     "output_type": "execute_result"
    }
   ],
   "source": [
    "a=10\n",
    "b=20\n",
    "a+b"
   ]
  },
  {
   "cell_type": "code",
   "execution_count": 2,
   "metadata": {},
   "outputs": [
    {
     "name": "stdout",
     "output_type": "stream",
     "text": [
      "Hello world\n"
     ]
    }
   ],
   "source": [
    "print(\"Hello world\")"
   ]
  },
  {
   "cell_type": "code",
   "execution_count": 8,
   "metadata": {},
   "outputs": [
    {
     "data": {
      "text/plain": [
       "5"
      ]
     },
     "execution_count": 8,
     "metadata": {},
     "output_type": "execute_result"
    }
   ],
   "source": [
    "var1=int(input(\"Enter a value\"))\n",
    "var1"
   ]
  },
  {
   "cell_type": "code",
   "execution_count": 3,
   "metadata": {},
   "outputs": [],
   "source": [
    "import numpy as np"
   ]
  },
  {
   "cell_type": "markdown",
   "metadata": {},
   "source": [
    "1D Array"
   ]
  },
  {
   "cell_type": "code",
   "execution_count": 4,
   "metadata": {},
   "outputs": [
    {
     "name": "stdout",
     "output_type": "stream",
     "text": [
      "[2 3 4 5 6]\n",
      "array dimension---> 1\n"
     ]
    },
    {
     "data": {
      "text/plain": [
       "(5,)"
      ]
     },
     "execution_count": 4,
     "metadata": {},
     "output_type": "execute_result"
    }
   ],
   "source": [
    "arr1=np.array([1,2,3,4,5])\n",
    "arr2=arr1+1\n",
    "print(arr2)\n",
    "print(\"array dimension--->\",arr1.ndim)\n",
    "arr1[:]=10\n",
    "arr1\n",
    "arr1[2:4]=[20,30]\n",
    "arr1\n",
    "arr1.shape"
   ]
  },
  {
   "cell_type": "markdown",
   "metadata": {},
   "source": [
    "2D Array"
   ]
  },
  {
   "cell_type": "code",
   "execution_count": 25,
   "metadata": {},
   "outputs": [
    {
     "data": {
      "text/plain": [
       "array([[1, 2, 3, 4],\n",
       "       [5, 0, 0, 1],\n",
       "       [1, 0, 0, 4],\n",
       "       [3, 6, 4, 7]])"
      ]
     },
     "execution_count": 25,
     "metadata": {},
     "output_type": "execute_result"
    }
   ],
   "source": [
    "arr2=np.array([[1,2,3,4],[5,6,3,1],[5,7,8,9],[3,6,4,7]])\n",
    "arr2.size\n",
    "arr2.ndim\n",
    "arr2.dtype\n",
    "arr2.shape\n",
    "arr2[2,1]=10\n",
    "arr2*10\n",
    "arr2[:,2]\n",
    "arr2[2,:]=[1,2,3,4]\n",
    "arr2\n",
    "arr2[1:3,1:3]=0\n",
    "arr2\n",
    "\n"
   ]
  },
  {
   "cell_type": "code",
   "execution_count": 46,
   "metadata": {},
   "outputs": [
    {
     "data": {
      "text/plain": [
       "array([[255, 255, 255],\n",
       "       [255, 255, 255],\n",
       "       [  7,   8,   9],\n",
       "       [ 12,  43,  54],\n",
       "       [255, 255, 255],\n",
       "       [  3,   9,   6],\n",
       "       [ -2,   9,  -2]])"
      ]
     },
     "execution_count": 46,
     "metadata": {},
     "output_type": "execute_result"
    }
   ],
   "source": [
    "arr3=np.array([[1,2,3],[4,5,6],[7,8,9],[12,43,54],[23,87,56],[3,9,6],[7,9,4]])\n",
    "arr3\n",
    "arr3[:,1:3] # to access the second and the third columns \n",
    "arr3[:,:2] # to acess the first and second columns\n",
    "arr3[:,::2] # to access first and third column\n",
    "arr3\n",
    "arr3[::6,::2]=-1\n",
    "arr3[0,0]=-1\n",
    "arr3[0,2]=-1\n",
    "arr3[-1,-3]=-1\n",
    "arr3[-1,-1]=-1\n",
    "arr3[[0,0,-1,-1],[0,2,-1,-3]]=-2\n",
    "arr3[[0,1,4],[1,1,1]]\n",
    "arr3\n",
    "# access 1,2 and 5th rows abd change the values to 255\n",
    "arr3[[0,1,4],:]=255 # or arr3[[0,1,4]]\n",
    "arr3\n"
   ]
  },
  {
   "cell_type": "code",
   "execution_count": 50,
   "metadata": {},
   "outputs": [
    {
     "data": {
      "text/plain": [
       "array([ 8, 12, 54,  6, -2, -2])"
      ]
     },
     "execution_count": 50,
     "metadata": {},
     "output_type": "execute_result"
    }
   ],
   "source": [
    "arr3>50# boolean indexing check the arr3 elements if >50.then return true or false\n",
    "arr3[arr3%2==0] # here only the values which is even is listed\n"
   ]
  },
  {
   "cell_type": "code",
   "execution_count": 11,
   "metadata": {},
   "outputs": [
    {
     "name": "stdout",
     "output_type": "stream",
     "text": [
      "all elements greater than 30--> [45 34 90 55 63]\n",
      "all odd numbers--> [45  7 19 55 63]\n",
      "array after replacing multiples of 5 with -1 [12 -1  7 19 34 28 -1 -1 63]\n",
      "No of elements less than 50---> 8\n"
     ]
    }
   ],
   "source": [
    "arr=np.array([12,45,7,19,34,28,90,55,63])\n",
    "print(\"all elements greater than 30-->\",arr[arr>30])\n",
    "print(\"all odd numbers-->\",arr[arr%2!=0])\n",
    "arr[arr%5==0]=-1\n",
    "print(\"array after replacing multiples of 5 with -1\",arr)\n",
    "print(\"No of elements less than 50--->\",arr[arr<50].size)"
   ]
  },
  {
   "cell_type": "code",
   "execution_count": 27,
   "metadata": {},
   "outputs": [
    {
     "name": "stdout",
     "output_type": "stream",
     "text": [
      "All numbers greater than 50---> [55 72 91 64]\n",
      "Array after replacing all even numbers with 0 --> [[ 0 25  0]\n",
      " [55  0  0]\n",
      " [91  0  0]]\n",
      "Sum of all numbers that are divisible by 5---> 80\n",
      "numbers that are >20 and less than 70---> 2\n"
     ]
    }
   ],
   "source": [
    "import numpy as np\n",
    "arr=np.array([[10,25,40],[55,18,72],[91,30,64]])\n",
    "print(\"All numbers greater than 50--->\",arr[arr>50])\n",
    "arr[arr%2==0]=0\n",
    "print(\"Array after replacing all even numbers with 0 -->\",arr)\n",
    "print(\"Sum of all numbers that are divisible by 5--->\",sum(arr[arr%5==0]))\n",
    "y=arr[(arr>20)  & (arr<70)]\n",
    "print(\"numbers that are >20 and less than 70--->\",y.size)"
   ]
  },
  {
   "cell_type": "code",
   "execution_count": 77,
   "metadata": {},
   "outputs": [
    {
     "name": "stdout",
     "output_type": "stream",
     "text": [
      "Extract elemrnts from 1st and 3rd row---> [[12 34 56]\n",
      " [45 67 89]]\n",
      "Second column from the array--> [34 90 67]\n",
      "Specific items 12,90,67 ---> [12 90 67]\n",
      "swaped the first and last row---> [[45 67 89]\n",
      " [78 90 23]\n",
      " [12 34 56]]\n"
     ]
    }
   ],
   "source": [
    "arr=np.array([[12,34,56],[78,90,23],[45,67,89]])\n",
    "print(\"Extract elemrnts from 1st and 3rd row--->\",arr[::2,])\n",
    "print(\"Second column from the array-->\",arr[:,1])\n",
    "print(\"Specific items 12,90,67 --->\",arr[[0,1,2],[0,1,1]])\n",
    "print(\"swaped the first and last row--->\",arr[::-1])\n",
    "arr[0,2]=arr[2,0]"
   ]
  },
  {
   "cell_type": "code",
   "execution_count": 25,
   "metadata": {},
   "outputs": [
    {
     "name": "stdout",
     "output_type": "stream",
     "text": [
      "array with multiples of 5 and greater than 30 [35 45 55 65 75 85]\n",
      "Array after replacing all numbers less than 50 with -1 [[-1 -1 -1]\n",
      " [-1 -1 55]\n",
      " [65 75 85]]\n",
      "[[ -1  -1 100]\n",
      " [ -1  -1 100]\n",
      " [ 65  75 100]]\n"
     ]
    },
    {
     "data": {
      "text/plain": [
       "array([[ -1,  -1, 200],\n",
       "       [ -1,  -1, 200],\n",
       "       [130, 150, 200]])"
      ]
     },
     "execution_count": 25,
     "metadata": {},
     "output_type": "execute_result"
    }
   ],
   "source": [
    "arr=np.array([[5,15,25],[35,45,55],[65,75,85]])\n",
    "arr1=arr[arr%5==0]\n",
    "arr1\n",
    "print(\"array with multiples of 5 and greater than 30\",arr1[arr[arr%5==0]>30])\n",
    "arr[arr<50]=-1\n",
    "print(\"Array after replacing all numbers less than 50 with -1\",arr)\n",
    "arr[:,-1]=100\n",
    "print(arr)\n",
    "arr[arr>60]*=2\n",
    "arr"
   ]
  },
  {
   "cell_type": "code",
   "execution_count": 50,
   "metadata": {},
   "outputs": [
    {
     "name": "stdout",
     "output_type": "stream",
     "text": [
      "[[ 0 25  0]\n",
      " [55  0  0]\n",
      " [91  0  0]]\n",
      "0\n",
      "91\n",
      "6\n",
      "[2 0 0]\n",
      "[1 0 0]\n",
      "0\n",
      "[0 1 0]\n",
      "[0 1 1]\n"
     ]
    }
   ],
   "source": [
    "# SUM\n",
    "print(arr)\n",
    "np.sum(arr,axis=0) # axis 0 means columns and axis 1 means row\n",
    "np.sum(arr,axis=1)\n",
    "# min\n",
    "print(np.min(arr))\n",
    "# max\n",
    "print(np.max(arr))\n",
    "# argmax\n",
    "print(np.argmax(arr)) # index of the max item \n",
    "print(np.argmax(arr,axis=0))\n",
    "print(np.argmax(arr,axis=1))\n",
    "# argmin\n",
    "print(np.argmin(arr)) # index of the max item\n",
    "print(np.argmin(arr,axis=0))\n",
    "print(np.argmin(arr,axis=1))\n",
    "# mean\n",
    "# median\n",
    "# std\n",
    "# var\n"
   ]
  },
  {
   "cell_type": "code",
   "execution_count": 52,
   "metadata": {},
   "outputs": [
    {
     "data": {
      "text/plain": [
       "array([[0.37893163, 0.81596662, 0.23237555, 0.71401647, 0.47625815],\n",
       "       [0.61504608, 0.54102147, 0.26015431, 0.32234731, 0.16107265],\n",
       "       [0.6609836 , 0.99479292, 0.1441075 , 0.23164901, 0.83401764],\n",
       "       [0.432836  , 0.85165831, 0.93031472, 0.50139636, 0.68576174],\n",
       "       [0.97731099, 0.35276935, 0.23519628, 0.03959842, 0.79918341],\n",
       "       [0.94355536, 0.99963796, 0.9218299 , 0.42138454, 0.31841175],\n",
       "       [0.4107879 , 0.28562003, 0.74439318, 0.49950432, 0.69489714],\n",
       "       [0.19464082, 0.20603402, 0.65052082, 0.33343119, 0.94907276],\n",
       "       [0.53464251, 0.01089871, 0.391683  , 0.24560933, 0.14870691],\n",
       "       [0.48242643, 0.37491139, 0.67894444, 0.02182212, 0.70533229]])"
      ]
     },
     "execution_count": 52,
     "metadata": {},
     "output_type": "execute_result"
    }
   ],
   "source": [
    "# zero array\n",
    "np.zeros((5,3))\n",
    "# ones array\n",
    "np.ones((5,3))\n",
    "# full\n",
    "a=np.full((5,3),7)\n",
    "# full like\n",
    "np.full_like(a,5)\n",
    "# arange\n",
    "b=np.arange(1,101,1)\n",
    "#reshape\n",
    "b.reshape((10,10))\n",
    "np.reshape(b,(100,))\n",
    "# random array\n",
    "np.random.randint(1,1000,(10,5)) # random array\n",
    "np.random.random((10,5)) # random array with values between 0 and 1 of shape 10,5\n"
   ]
  },
  {
   "cell_type": "code",
   "execution_count": 6,
   "metadata": {},
   "outputs": [
    {
     "data": {
      "image/png": "[encoded data removed]",
      "text/plain": [
       "<Figure size 300x300 with 1 Axes>"
      ]
     },
     "metadata": {},
     "output_type": "display_data"
    }
   ],
   "source": [
    "import matplotlib.pyplot as plt\n",
    "labels=[\"Middle aged\",\"Young aged\",\"Adult\"]\n",
    "sizes=[1129,385,162]\n",
    "colours=[\"skyblue\",\"Darkblue\",\"gray\"]\n",
    "explode=(0,0,0)\n",
    "plt.figure(figsize=(3,3))  # Optional: Set the figure size\n",
    "\n",
    "plt.pie(sizes, explode=explode, labels=labels, colors=colours,autopct='%1.1f%%')\n",
    "        # autopct='%1.1f%%', shadow=True, startangle=140)\n",
    "plt.axis('equal') \n",
    "plt.show()"
   ]
  },
  {
   "cell_type": "code",
   "execution_count": 11,
   "metadata": {},
   "outputs": [
    {
     "data": {
      "image/png": "[encoded data removed]",
      "text/plain": [
       "<Figure size 400x400 with 1 Axes>"
      ]
     },
     "metadata": {},
     "output_type": "display_data"
    }
   ],
   "source": [
    "categories=[\"Young aged\",\"Middle aged\",\"Adult\"]\n",
    "values=[101,88,10]\n",
    "colours=[\"skyblue\",\"darkblue\",'grey']\n",
    "plt.figure(figsize=(4,4)) \n",
    "plt.bar(categories,values)\n",
    "plt.xlabel(\"Age\")\n",
    "plt.ylabel(\"No of employees\")\n",
    "plt.show()"
   ]
  },
  {
   "cell_type": "code",
   "execution_count": null,
   "metadata": {},
   "outputs": [
    {
     "data": {
      "image/png": "[encoded data removed]",
      "text/plain": [
       "<Figure size 640x480 with 1 Axes>"
      ]
     },
     "metadata": {},
     "output_type": "display_data"
    }
   ],
   "source": [
    "x1 = [1, 2, 3, 4, 5]\n",
    "y1 = [2, 3, 5, 7, 11]\n",
    "\n",
    "x2=[]\n",
    "plt.plot(x,y)\n",
    "plt.show()"
   ]
  },
  {
   "cell_type": "code",
   "execution_count": 13,
   "metadata": {},
   "outputs": [
    {
     "data": {
      "image/png": "[encoded data removed]",
      "text/plain": [
       "<Figure size 640x480 with 1 Axes>"
      ]
     },
     "metadata": {},
     "output_type": "display_data"
    }
   ],
   "source": [
    "x = [1, 2, 3, 4, 5]\n",
    "\n",
    "y = [1, 3, 2, 5, 4]\n",
    "\n",
    "\n",
    "plt.fill_between(x, y, color=\"skyblue\", alpha=0.4)\n",
    "\n",
    "plt.plot(x, y, color=\"Slateblue\", alpha=0.6)\n",
    "\n",
    "plt.title('Area Chart')\n",
    "\n",
    "plt.xlabel('X-axis')\n",
    "\n",
    "plt.ylabel('Y-axis')\n",
    "\n",
    "plt.show()"
   ]
  },
  {
   "cell_type": "code",
   "execution_count": 14,
   "metadata": {},
   "outputs": [
    {
     "data": {
      "image/png": "[encoded data removed]",
      "text/plain": [
       "<Figure size 300x300 with 1 Axes>"
      ]
     },
     "metadata": {},
     "output_type": "display_data"
    }
   ],
   "source": [
    "labels=[\"Maternity\",\"Cardiology\",\"Neurology\"]\n",
    "values=[98,74,27]\n",
    "colours=[\"Skyblue\",'darkblue',\"grey\"]\n",
    "plt.figure(figsize=(3,3))\n",
    "plt.pie(values,labels=labels,colors=colours,autopct='%1.1f%%')\n",
    "plt.show()"
   ]
  }
 ],
 "metadata": {
  "kernelspec": {
   "display_name": "Python 3",
   "language": "python",
   "name": "python3"
  },
  "language_info": {
   "codemirror_mode": {
    "name": "ipython",
    "version": 3
   },
   "file_extension": ".py",
   "mimetype": "text/x-python",
   "name": "python",
   "nbconvert_exporter": "python",
   "pygments_lexer": "ipython3",
   "version": "3.13.0"
  }
 },
 "nbformat": 4,
 "nbformat_minor": 2
}
