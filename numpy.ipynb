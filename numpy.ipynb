{
 "cells": [
  {
   "cell_type": "code",
   "execution_count": 17,
   "metadata": {},
   "outputs": [
    {
     "name": "stdout",
     "output_type": "stream",
     "text": [
      "30\n"
     ]
    }
   ],
   "source": [
    "a=10\n",
    "b=20\n",
    "print(a+b)"
   ]
  },
  {
   "cell_type": "code",
   "execution_count": 18,
   "metadata": {},
   "outputs": [
    {
     "data": {
      "text/plain": [
       "30"
      ]
     },
     "execution_count": 18,
     "metadata": {},
     "output_type": "execute_result"
    }
   ],
   "source": [
    "a=10\n",
    "b=20\n",
    "a+b"
   ]
  },
  {
   "cell_type": "code",
   "execution_count": 19,
   "metadata": {},
   "outputs": [
    {
     "name": "stdout",
     "output_type": "stream",
     "text": [
      "Hello world\n"
     ]
    }
   ],
   "source": [
    "print(\"Hello world\")"
   ]
  },
  {
   "cell_type": "code",
   "execution_count": 20,
   "metadata": {},
   "outputs": [
    {
     "data": {
      "text/plain": [
       "3"
      ]
     },
     "execution_count": 20,
     "metadata": {},
     "output_type": "execute_result"
    }
   ],
   "source": [
    "var1=int(input(\"Enter a value\"))\n",
    "var1"
   ]
  },
  {
   "cell_type": "code",
   "execution_count": 2,
   "metadata": {},
   "outputs": [],
   "source": [
    "import numpy as np"
   ]
  },
  {
   "cell_type": "markdown",
   "metadata": {},
   "source": [
    "1D Array"
   ]
  },
  {
   "cell_type": "code",
   "execution_count": 3,
   "metadata": {},
   "outputs": [
    {
     "name": "stdout",
     "output_type": "stream",
     "text": [
      "[2 3 4 5 6]\n",
      "array dimension---> 1\n"
     ]
    },
    {
     "data": {
      "text/plain": [
       "(5,)"
      ]
     },
     "execution_count": 3,
     "metadata": {},
     "output_type": "execute_result"
    }
   ],
   "source": [
    "arr1=np.array([1,2,3,4,5])\n",
    "arr2=arr1+1\n",
    "print(arr2)\n",
    "print(\"array dimension--->\",arr1.ndim)\n",
    "arr1[:]=10\n",
    "arr1\n",
    "arr1[2:4]=[20,30]\n",
    "arr1\n",
    "arr1.shape"
   ]
  },
  {
   "cell_type": "markdown",
   "metadata": {},
   "source": [
    "2D Array"
   ]
  },
  {
   "cell_type": "code",
   "execution_count": 23,
   "metadata": {},
   "outputs": [
    {
     "data": {
      "text/plain": [
       "array([[1, 2, 3, 4],\n",
       "       [5, 0, 0, 1],\n",
       "       [1, 0, 0, 4],\n",
       "       [3, 6, 4, 7]])"
      ]
     },
     "execution_count": 23,
     "metadata": {},
     "output_type": "execute_result"
    }
   ],
   "source": [
    "arr2=np.array([[1,2,3,4],[5,6,3,1],[5,7,8,9],[3,6,4,7]])\n",
    "arr2.size\n",
    "arr2.ndim\n",
    "arr2.dtype\n",
    "arr2.shape\n",
    "arr2[2,1]=10\n",
    "arr2*10\n",
    "arr2[:,2]\n",
    "arr2[2,:]=[1,2,3,4]\n",
    "arr2\n",
    "arr2[1:3,1:3]=0\n",
    "arr2\n",
    "\n"
   ]
  },
  {
   "cell_type": "code",
   "execution_count": 24,
   "metadata": {},
   "outputs": [
    {
     "data": {
      "text/plain": [
       "array([[255, 255, 255],\n",
       "       [255, 255, 255],\n",
       "       [  7,   8,   9],\n",
       "       [ 12,  43,  54],\n",
       "       [255, 255, 255],\n",
       "       [  3,   9,   6],\n",
       "       [ -2,   9,  -2]])"
      ]
     },
     "execution_count": 24,
     "metadata": {},
     "output_type": "execute_result"
    }
   ],
   "source": [
    "arr3=np.array([[1,2,3],[4,5,6],[7,8,9],[12,43,54],[23,87,56],[3,9,6],[7,9,4]])\n",
    "arr3\n",
    "arr3[:,1:3] # to access the second and the third columns \n",
    "arr3[:,:2] # to acess the first and second columns\n",
    "arr3[:,::2] # to access first and third column\n",
    "arr3\n",
    "arr3[::6,::2]=-1\n",
    "arr3[0,0]=-1\n",
    "arr3[0,2]=-1\n",
    "arr3[-1,-3]=-1\n",
    "arr3[-1,-1]=-1\n",
    "arr3[[0,0,-1,-1],[0,2,-1,-3]]=-2\n",
    "arr3[[0,1,4],[1,1,1]]\n",
    "arr3\n",
    "# access 1,2 and 5th rows abd change the values to 255\n",
    "arr3[[0,1,4],:]=255 # or arr3[[0,1,4]]\n",
    "arr3\n"
   ]
  },
  {
   "cell_type": "code",
   "execution_count": 25,
   "metadata": {},
   "outputs": [
    {
     "data": {
      "text/plain": [
       "array([ 8, 12, 54,  6, -2, -2])"
      ]
     },
     "execution_count": 25,
     "metadata": {},
     "output_type": "execute_result"
    }
   ],
   "source": [
    "arr3>50# boolean indexing check the arr3 elements if >50.then return true or false\n",
    "arr3[arr3%2==0] # here only the values which is even is listed\n"
   ]
  },
  {
   "cell_type": "code",
   "execution_count": 26,
   "metadata": {},
   "outputs": [
    {
     "name": "stdout",
     "output_type": "stream",
     "text": [
      "all elements greater than 30--> [45 34 90 55 63]\n",
      "all odd numbers--> [45  7 19 55 63]\n",
      "array after replacing multiples of 5 with -1 [12 -1  7 19 34 28 -1 -1 63]\n",
      "No of elements less than 50---> 8\n"
     ]
    }
   ],
   "source": [
    "arr=np.array([12,45,7,19,34,28,90,55,63])\n",
    "print(\"all elements greater than 30-->\",arr[arr>30])\n",
    "print(\"all odd numbers-->\",arr[arr%2!=0])\n",
    "arr[arr%5==0]=-1\n",
    "print(\"array after replacing multiples of 5 with -1\",arr)\n",
    "print(\"No of elements less than 50--->\",arr[arr<50].size)"
   ]
  },
  {
   "cell_type": "code",
   "execution_count": 27,
   "metadata": {},
   "outputs": [
    {
     "name": "stdout",
     "output_type": "stream",
     "text": [
      "All numbers greater than 50---> [55 72 91 64]\n",
      "Array after replacing all even numbers with 0 --> [[ 0 25  0]\n",
      " [55  0  0]\n",
      " [91  0  0]]\n",
      "Sum of all numbers that are divisible by 5---> 80\n",
      "numbers that are >20 and less than 70---> 2\n"
     ]
    }
   ],
   "source": [
    "import numpy as np\n",
    "arr=np.array([[10,25,40],[55,18,72],[91,30,64]])\n",
    "print(\"All numbers greater than 50--->\",arr[arr>50])\n",
    "arr[arr%2==0]=0\n",
    "print(\"Array after replacing all even numbers with 0 -->\",arr)\n",
    "print(\"Sum of all numbers that are divisible by 5--->\",sum(arr[arr%5==0]))\n",
    "y=arr[(arr>20)  & (arr<70)]\n",
    "print(\"numbers that are >20 and less than 70--->\",y.size)"
   ]
  },
  {
   "cell_type": "code",
   "execution_count": 28,
   "metadata": {},
   "outputs": [
    {
     "name": "stdout",
     "output_type": "stream",
     "text": [
      "Extract elemrnts from 1st and 3rd row---> [[12 34 56]\n",
      " [45 67 89]]\n",
      "Second column from the array--> [34 90 67]\n",
      "Specific items 12,90,67 ---> [12 90 67]\n",
      "swaped the first and last row---> [[45 67 89]\n",
      " [78 90 23]\n",
      " [12 34 56]]\n"
     ]
    }
   ],
   "source": [
    "arr=np.array([[12,34,56],[78,90,23],[45,67,89]])\n",
    "print(\"Extract elemrnts from 1st and 3rd row--->\",arr[::2,])\n",
    "print(\"Second column from the array-->\",arr[:,1])\n",
    "print(\"Specific items 12,90,67 --->\",arr[[0,1,2],[0,1,1]])\n",
    "print(\"swaped the first and last row--->\",arr[::-1])\n",
    "arr[0,2]=arr[2,0]"
   ]
  },
  {
   "cell_type": "code",
   "execution_count": 29,
   "metadata": {},
   "outputs": [
    {
     "name": "stdout",
     "output_type": "stream",
     "text": [
      "array with multiples of 5 and greater than 30 [35 45 55 65 75 85]\n",
      "Array after replacing all numbers less than 50 with -1 [[-1 -1 -1]\n",
      " [-1 -1 55]\n",
      " [65 75 85]]\n",
      "[[ -1  -1 100]\n",
      " [ -1  -1 100]\n",
      " [ 65  75 100]]\n"
     ]
    },
    {
     "data": {
      "text/plain": [
       "array([[ -1,  -1, 200],\n",
       "       [ -1,  -1, 200],\n",
       "       [130, 150, 200]])"
      ]
     },
     "execution_count": 29,
     "metadata": {},
     "output_type": "execute_result"
    }
   ],
   "source": [
    "arr=np.array([[5,15,25],[35,45,55],[65,75,85]])\n",
    "arr1=arr[arr%5==0]\n",
    "arr1\n",
    "print(\"array with multiples of 5 and greater than 30\",arr1[arr[arr%5==0]>30])\n",
    "arr[arr<50]=-1\n",
    "print(\"Array after replacing all numbers less than 50 with -1\",arr)\n",
    "arr[:,-1]=100\n",
    "print(arr)\n",
    "arr[arr>60]*=2\n",
    "arr"
   ]
  },
  {
   "cell_type": "code",
   "execution_count": 30,
   "metadata": {},
   "outputs": [
    {
     "name": "stdout",
     "output_type": "stream",
     "text": [
      "[[ -1  -1 200]\n",
      " [ -1  -1 200]\n",
      " [130 150 200]]\n",
      "-1\n",
      "200\n",
      "2\n",
      "[2 2 0]\n",
      "[2 2 2]\n",
      "0\n",
      "[0 0 0]\n",
      "[0 0 0]\n"
     ]
    }
   ],
   "source": [
    "# SUM\n",
    "print(arr)\n",
    "np.sum(arr,axis=0) # axis 0 means columns and axis 1 means row\n",
    "np.sum(arr,axis=1)\n",
    "# min\n",
    "print(np.min(arr))\n",
    "# max\n",
    "print(np.max(arr))\n",
    "# argmax\n",
    "print(np.argmax(arr)) # index of the max value \n",
    "print(np.argmax(arr,axis=0))\n",
    "print(np.argmax(arr,axis=1))\n",
    "# argmin\n",
    "print(np.argmin(arr)) # index of the max values\n",
    "print(np.argmin(arr,axis=0))\n",
    "print(np.argmin(arr,axis=1))\n",
    "# mean\n",
    "# median\n",
    "# std\n",
    "# var\n"
   ]
  },
  {
   "cell_type": "code",
   "execution_count": 31,
   "metadata": {},
   "outputs": [
    {
     "data": {
      "text/plain": [
       "array([[0.3386562 , 0.11164269, 0.60211291, 0.44279254, 0.7444549 ],\n",
       "       [0.59507275, 0.07532943, 0.4957266 , 0.609644  , 0.52856745],\n",
       "       [0.9797362 , 0.52301617, 0.80382326, 0.75303971, 0.96661117],\n",
       "       [0.71770568, 0.73136868, 0.47975527, 0.92917248, 0.92118969],\n",
       "       [0.08227647, 0.42843802, 0.93603953, 0.58412371, 0.89351294],\n",
       "       [0.57736489, 0.588572  , 0.01889703, 0.86121429, 0.2839959 ],\n",
       "       [0.95021204, 0.24089094, 0.2349485 , 0.60906426, 0.39312933],\n",
       "       [0.98273879, 0.04234176, 0.73636696, 0.28573108, 0.70664279],\n",
       "       [0.05827123, 0.12453278, 0.61631945, 0.02175226, 0.87294864],\n",
       "       [0.3509913 , 0.21512923, 0.79305538, 0.79183674, 0.29667964]])"
      ]
     },
     "execution_count": 31,
     "metadata": {},
     "output_type": "execute_result"
    }
   ],
   "source": [
    "# zero array\n",
    "np.zeros((5,3))\n",
    "# ones array\n",
    "np.ones((5,3))\n",
    "# full\n",
    "a=np.full((5,3),7)\n",
    "# full like\n",
    "np.full_like(a,5)\n",
    "# arange\n",
    "b=np.arange(1,101,1)\n",
    "#reshape\n",
    "b.reshape((10,10))\n",
    "np.reshape(b,(100,))\n",
    "# random array\n",
    "np.random.randint(1,1000,(10,5)) # random array\n",
    "np.random.random((10,5)) # random array with values between 0 and 1 of shape 10,5\n"
   ]
  },
  {
   "cell_type": "code",
   "execution_count": 65,
   "metadata": {},
   "outputs": [
    {
     "name": "stdout",
     "output_type": "stream",
     "text": [
      "[[19  8 15 22 24]\n",
      " [16 15 16  6 23]\n",
      " [ 2  6  8 24 14]\n",
      " [11  8 20  3 16]\n",
      " [21 13 14 15  7]]\n",
      "Third raw [ 2  6  8 24 14]\n",
      "Second column [ 8 15  6  8 13]\n",
      "Submatrix from raw 2 to 4 and column 3 to 5  [[16  6 23]\n",
      " [ 8 24 14]\n",
      " [20  3 16]]\n",
      "Transpose array [[19 16  2 11 21]\n",
      " [ 8 15  6  8 13]\n",
      " [15 16  8 20 14]\n",
      " [22  6 24  3 15]\n",
      " [24 23 14 16  7]]\n"
     ]
    }
   ],
   "source": [
    "arr2d=np.random.randint(1,25,(5,5))\n",
    "print(arr2d)\n",
    "print(\"Third raw\",arr2d[2,:])\n",
    "print(\"Second column\",arr2d[:,1])\n",
    "print(\"Submatrix from raw 2 to 4 and column 3 to 5 \",arr2d[1:4,2:5])\n",
    "print(\"Transpose array\", np.transpose(arr2d))"
   ]
  },
  {
   "cell_type": "code",
   "execution_count": 57,
   "metadata": {},
   "outputs": [
    {
     "name": "stdout",
     "output_type": "stream",
     "text": [
      "[42 47 30 41  9 48 21 36 29 29  2  8  4  3 42 29 41  8 11 19]\n",
      "Array with values greaterthan 25---> [42 47 30 41 48 36 29 29 42 29 41]\n",
      "Array with values lessthan 25 repalced to -1 ---> [42 47 30 41 -1 48 -1 36 29 29 -1 -1 -1 -1 42 29 41 -1 -1 -1]\n"
     ]
    }
   ],
   "source": [
    "arr1d=np.random.randint(0,50,(20))\n",
    "print(arr1d)\n",
    "arrnew=arr1d[arr1d>25]\n",
    "print(\"Array with values greaterthan 25--->\",arrnew)\n",
    "arr1d[arr1d<=25]=-1\n",
    "print(\"Array with values lessthan 25 repalced to -1 --->\",arr1d)"
   ]
  },
  {
   "cell_type": "code",
   "execution_count": 62,
   "metadata": {},
   "outputs": [
    {
     "name": "stdout",
     "output_type": "stream",
     "text": [
      "[ 1  2  3  4  5  6  7  8  9 10 11 12 13 14 15 16]\n",
      "[[ 1  2  3  4]\n",
      " [ 5  6  7  8]\n",
      " [ 9 10 11 12]\n",
      " [13 14 15 16]]\n",
      "Transpose matrix [[ 1  5  9 13]\n",
      " [ 2  6 10 14]\n",
      " [ 3  7 11 15]\n",
      " [ 4  8 12 16]]\n"
     ]
    }
   ],
   "source": [
    "arr=np.arange(1,17)\n",
    "print(arr)\n",
    "arr2d=arr.reshape((4,4))\n",
    "print(arr2d)\n",
    "print(\"Transpose matrix\",np.transpose(arr2d))"
   ]
  },
  {
   "cell_type": "code",
   "execution_count": 67,
   "metadata": {},
   "outputs": [
    {
     "name": "stdout",
     "output_type": "stream",
     "text": [
      "[[ 9 76 15 92]\n",
      " [88 60 66 57]\n",
      " [12 38 91 35]\n",
      " [73 56 37 82]\n",
      " [37 61  7 18]\n",
      " [94 35 50 65]\n",
      " [ 0 58 29 83]\n",
      " [31 35 15 76]\n",
      " [53 24 28 55]\n",
      " [23 81 73 65]]\n",
      "sum of all elements---> 1983\n",
      "mean of entire array---> 49.575\n",
      "Max value in each column--> [94 81 91 92]\n",
      "Min value in each row--> [ 9 57 12 37  7 35  0 15 24 23]\n"
     ]
    }
   ],
   "source": [
    "arr2d=np.random.randint(0,100,(10,4))\n",
    "print(arr2d)\n",
    "print(\"sum of all elements--->\",np.sum(arr2d))\n",
    "print(\"mean of entire array--->\",np.mean(arr2d))\n",
    "print(\"Max value in each column-->\",np.max(arr2d,axis=0))\n",
    "print(\"Min value in each row-->\",np.min(arr2d,axis=1))"
   ]
  },
  {
   "cell_type": "code",
   "execution_count": 84,
   "metadata": {},
   "outputs": [
    {
     "name": "stdout",
     "output_type": "stream",
     "text": [
      "[[ 1  2  3  4  5  6]\n",
      " [ 7  8  9 10 11 12]\n",
      " [13 14 15 16 17 18]\n",
      " [19 20 21 22 23 24]\n",
      " [25 26 27 28 29 30]\n",
      " [31 32 33 34 35 36]]\n",
      "[16 30 31]\n",
      "Element at (2,3)---> 16\n",
      "Element at (4,5)---> 30\n",
      "Element at (5,0)---> 31\n"
     ]
    }
   ],
   "source": [
    "arr2d=np.reshape(np.arange(1,37),(6,6))\n",
    "print(arr2d)\n",
    "print(arr2d[[2,4,5],[3,5,0]])\n",
    "print(\"Element at (2,3)--->\",arr2d[2,3])\n",
    "print(\"Element at (4,5)--->\",arr2d[4,5])\n",
    "print(\"Element at (5,0)--->\",arr2d[5,0])"
   ]
  },
  {
   "cell_type": "code",
   "execution_count": 81,
   "metadata": {},
   "outputs": [
    {
     "name": "stdout",
     "output_type": "stream",
     "text": [
      "[[ 1  2  3  4  5]\n",
      " [ 6  7  8  9 10]\n",
      " [11 12 13 14 15]\n",
      " [16 17 18 19 20]\n",
      " [21 22 23 24 25]]\n",
      "[[21 22 23 24 25]\n",
      " [11 12 13 14 15]\n",
      " [ 1  2  3  4  5]\n",
      " [16 17 18 19 20]\n",
      " [ 6  7  8  9 10]]\n",
      "[[22 24 21 25 23]\n",
      " [12 14 11 15 13]\n",
      " [ 2  4  1  5  3]\n",
      " [17 19 16 20 18]\n",
      " [ 7  9  6 10  8]]\n"
     ]
    }
   ],
   "source": [
    "arr2d=np.reshape(np.arange(1,26),(5,5))\n",
    "print(arr2d)\n",
    "arr=arr2d[[4,2,0,3,1],:]\n",
    "print(arr)\n",
    "arr=arr[:,[1,3,0,4,2]]\n",
    "print(arr)"
   ]
  },
  {
   "cell_type": "code",
   "execution_count": 92,
   "metadata": {},
   "outputs": [
    {
     "data": {
      "text/plain": [
       "np.int64(32)"
      ]
     },
     "execution_count": 92,
     "metadata": {},
     "output_type": "execute_result"
    }
   ],
   "source": [
    "a=np.array((1,2,3,4))\n",
    "b=np.array((2,4,2,4))\n",
    "np.dot(a,b)"
   ]
  },
  {
   "cell_type": "code",
   "execution_count": 6,
   "metadata": {},
   "outputs": [
    {
     "data": {
      "text/plain": [
       "np.int64(4)"
      ]
     },
     "execution_count": 6,
     "metadata": {},
     "output_type": "execute_result"
    }
   ],
   "source": [
    "arr3d=np.array([[[1,2,3],[10,11,12]],[[1,2,3],[3,4,5]]])\n",
    "arr3d.shape # first 2 is the height(no of 2d arrays),next 2,3 is the raws and columns of each 2d array.\n",
    "arr3d[1,1,1]"
   ]
  },
  {
   "cell_type": "code",
   "execution_count": 35,
   "metadata": {},
   "outputs": [
    {
     "name": "stdout",
     "output_type": "stream",
     "text": [
      "[[[81 69 80 65]\n",
      "  [ 4 40 26 19]]\n",
      "\n",
      " [[80 49 81 20]\n",
      "  [39 70 64 35]]\n",
      "\n",
      " [[50 17 56 33]\n",
      "  [72 25 74 94]]]\n",
      "1d array--> [81 69 80 65  4 40 26 19 80 49 81 20 39 70 64 35 50 17 56 33 72 25 74 94]\n",
      "repalce all even values in 2nd depth with -1 [[[81 69 80 65]\n",
      "  [ 4 40 26 19]]\n",
      "\n",
      " [[-1 49 81 -1]\n",
      "  [39 -1 -1 35]]\n",
      "\n",
      " [[50 17 56 33]\n",
      "  [72 25 74 94]]]\n",
      "check array contains a number greater than 95 or not--> False\n",
      "array with 4 column 3---> [[[81 69 80 10]\n",
      "  [ 4 40 26 10]]\n",
      "\n",
      " [[-1 49 81 -1]\n",
      "  [39 -1 -1 35]]\n",
      "\n",
      " [[50 17 56 33]\n",
      "  [72 25 74 94]]]\n"
     ]
    }
   ],
   "source": [
    "arr3d2=np.random.randint(1,100,(2,3,4))\n",
    "arr3d2\n",
    "arr3d3=np.reshape(arr3d2,(3,2,4))\n",
    "print(arr3d3)\n",
    "print(\"1d array-->\",arr3d3.flatten())\n",
    "arr3d3[1][arr3d3[1]%2==0]=-1\n",
    "print(\"repalce all even values in 2nd depth with -1\",arr3d3)\n",
    "\n",
    "print(\"check array contains a number greater than 95 or not-->\",np.any(arr3d2[arr3d2>95]))\n",
    "arr3d3[0,:,3]=10\n",
    "print(\"array with 4 column 3--->\",arr3d3)"
   ]
  },
  {
   "cell_type": "code",
   "execution_count": 12,
   "metadata": {},
   "outputs": [
    {
     "name": "stdout",
     "output_type": "stream",
     "text": [
      "[[[ 1  2  3  4]\n",
      "  [ 1  4  5  6]\n",
      "  [ 1  5  6  7]]\n",
      "\n",
      " [[ 2  3  4  5]\n",
      "  [ 2  4  5  6]\n",
      "  [ 2  5  6  7]]\n",
      "\n",
      " [[10 11 12 13]\n",
      "  [10 12 13 14]\n",
      "  [10 13 14 15]]\n",
      "\n",
      " [[11 12 13 14]\n",
      "  [12 13 14 15]\n",
      "  [10 11 15 16]]]\n",
      "3\n",
      "(4, 3, 4)\n",
      "10\n"
     ]
    }
   ],
   "source": [
    "arr3d1=np.array([[[1,2,3,4],[1,4,5,6],[1,5,6,7]],[[2,3,4,5],[2,4,5,6],[2,5,6,7]],\n",
    "                [[10,11,12,13],[10,12,13,14],[10,13,14,15]],[[11,12,13,14],[12,13,14,15],[10,11,15,16]]])\n",
    "print(arr3d1)\n",
    "print(arr3d1.ndim)\n",
    "print(arr3d1.shape)\n",
    "print(arr3d1[2,1,0])"
   ]
  }
 ],
 "metadata": {
  "kernelspec": {
   "display_name": "Python 3",
   "language": "python",
   "name": "python3"
  },
  "language_info": {
   "codemirror_mode": {
    "name": "ipython",
    "version": 3
   },
   "file_extension": ".py",
   "mimetype": "text/x-python",
   "name": "python",
   "nbconvert_exporter": "python",
   "pygments_lexer": "ipython3",
   "version": "3.13.0"
  }
 },
 "nbformat": 4,
 "nbformat_minor": 2
}
